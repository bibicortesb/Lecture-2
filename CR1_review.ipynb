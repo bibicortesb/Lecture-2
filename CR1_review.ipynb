{
 "cells": [
  {
   "cell_type": "code",
   "execution_count": 3,
   "metadata": {},
   "outputs": [
    {
     "name": "stdout",
     "output_type": "stream",
     "text": [
      "Is 3 a multiple of 3? True\n",
      "Is 3 a multiple of 5? False\n",
      "Is 3 a multiple of 7? False\n"
     ]
    }
   ],
   "source": [
    "n = int(input())\n",
    "\n",
    "print(f'Is {n} a multiple of 3? {n % 3 == 0}')\n",
    "print(f'Is {n} a multiple of 5? {n % 5 == 0}')\n",
    "print(f'Is {n} a multiple of 7? {n % 7 == 0}')"
   ]
  },
  {
   "cell_type": "code",
   "execution_count": null,
   "metadata": {},
   "outputs": [],
   "source": []
  }
 ],
 "metadata": {
  "kernelspec": {
   "display_name": "Python 3",
   "language": "python",
   "name": "python3"
  },
  "language_info": {
   "codemirror_mode": {
    "name": "ipython",
    "version": 3
   },
   "file_extension": ".py",
   "mimetype": "text/x-python",
   "name": "python",
   "nbconvert_exporter": "python",
   "pygments_lexer": "ipython3",
   "version": "3.12.1"
  }
 },
 "nbformat": 4,
 "nbformat_minor": 2
}
