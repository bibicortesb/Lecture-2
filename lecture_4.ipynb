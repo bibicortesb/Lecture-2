{
 "cells": [
  {
   "cell_type": "code",
   "execution_count": null,
   "metadata": {},
   "outputs": [],
   "source": [
    "\n",
    "\n"
   ]
  },
  {
   "cell_type": "code",
   "execution_count": 9,
   "metadata": {},
   "outputs": [
    {
     "name": "stdout",
     "output_type": "stream",
     "text": [
      "[4, 4, 4, 3, 4]\n"
     ]
    }
   ],
   "source": [
    "def first_fit(item_list,bin_size):\n",
    "    # First: fit algorithm for the bin packing problem\n",
    "        # Input : item_list (list) list of items to pack\n",
    "                # bin_size (float) capacity of each bin\n",
    "        # Output: bin_list (list) a list og bins with what's inside\n",
    "\n",
    "    #Start by opening a bin\n",
    "    bin_state = [0]\n",
    "\n",
    "    # Loop over the items\n",
    "\n",
    "    for item in item_list:\n",
    "        # Flag that item is not placed yet\n",
    "        placed = False\n",
    "        # Loop over the bins\n",
    "        # for bin in bin_state: Loop on element \n",
    "        for i in range(len(bin_state)): # Loop on index\n",
    "\n",
    "            # Does it fit in the current bin?\n",
    "            if bin_state[i] + item <= bin_size:\n",
    "                bin_state[i] += item\n",
    "                # Raise the flag\n",
    "                placed = True\n",
    "        if not placed:\n",
    "            # Open a new bin\n",
    "            bin_state.append(0)\n",
    "            # Put the item in the bin\n",
    "            bin_state[-1]+= item\n",
    "\n",
    "            # Shorter \n",
    "            # bin.state\n",
    "\n",
    "\n",
    "    return bin_state\n",
    "\n",
    "\n",
    "# Testing\n",
    "\n",
    "# size of each item\n",
    "item_list = [2,1,3,2,1,2,3,1]\n",
    "\n",
    "#size of the fin\n",
    "bin_size = 4\n",
    "\n",
    "# 'assert X' does nothing if X is True. (Flags)\n",
    "# but raises an error if X is False\n",
    "print(first_fit(item_list,bin_size) )\n",
    "#assert first_fit(item_list,bin_size) == [4,4,4,3]\n"
   ]
  },
  {
   "cell_type": "code",
   "execution_count": null,
   "metadata": {},
   "outputs": [],
   "source": []
  }
 ],
 "metadata": {
  "kernelspec": {
   "display_name": "Python 3",
   "language": "python",
   "name": "python3"
  },
  "language_info": {
   "codemirror_mode": {
    "name": "ipython",
    "version": 3
   },
   "file_extension": ".py",
   "mimetype": "text/x-python",
   "name": "python",
   "nbconvert_exporter": "python",
   "pygments_lexer": "ipython3",
   "version": "3.12.1"
  }
 },
 "nbformat": 4,
 "nbformat_minor": 2
}
