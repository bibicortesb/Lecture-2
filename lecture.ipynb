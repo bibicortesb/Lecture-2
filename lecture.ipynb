{
 "cells": [
  {
   "cell_type": "code",
   "execution_count": 1,
   "metadata": {},
   "outputs": [
    {
     "name": "stdout",
     "output_type": "stream",
     "text": [
      "Tommy\n",
      "False\n"
     ]
    }
   ],
   "source": [
    "name_A = 'Maria'\n",
    "name_B = 'Tommy'\n",
    "name_C = 'Jia'\n",
    "\n",
    "print(max(name_A,name_B,name_C))\n",
    "print(name_A>name_B)"
   ]
  },
  {
   "cell_type": "code",
   "execution_count": 2,
   "metadata": {},
   "outputs": [
    {
     "name": "stdout",
     "output_type": "stream",
     "text": [
      "Maria flatmates are Tommy and Jia\n"
     ]
    }
   ],
   "source": [
    "print(f'{name_A} flatmates are {name_B} and {name_C}')"
   ]
  },
  {
   "cell_type": "code",
   "execution_count": 3,
   "metadata": {},
   "outputs": [
    {
     "name": "stdout",
     "output_type": "stream",
     "text": [
      "Maria's flatmates are Tommy and Jia\n"
     ]
    }
   ],
   "source": [
    "print(f\"{name_A}'s flatmates are {name_B} and {name_C}\")"
   ]
  },
  {
   "cell_type": "code",
   "execution_count": 4,
   "metadata": {},
   "outputs": [],
   "source": [
    "# Use back slash to fix this problem as well\n",
    "\n",
    "#print(f\"{name_A}'s flatmates are {name_B} and {name_C}\")"
   ]
  },
  {
   "cell_type": "code",
   "execution_count": 6,
   "metadata": {},
   "outputs": [
    {
     "name": "stdout",
     "output_type": "stream",
     "text": [
      "Maria's flatmates are Tommy and Tommy\n"
     ]
    }
   ],
   "source": [
    "print(\"{0}'s flatmates are {1} and {2}\".format(name_A,name_B,name_B))"
   ]
  },
  {
   "cell_type": "code",
   "execution_count": 9,
   "metadata": {},
   "outputs": [],
   "source": [
    "# Room areas in sqr meters\n",
    "\n",
    "room_A = 6\n",
    "room_B = 11.3\n",
    "room_C = 8.2\n",
    "\n",
    "# Use this alternative as well for declaring. room_A, room_B, room_C =6,11.,8.2"
   ]
  },
  {
   "cell_type": "code",
   "execution_count": 10,
   "metadata": {},
   "outputs": [
    {
     "name": "stdout",
     "output_type": "stream",
     "text": [
      "11.3\n"
     ]
    }
   ],
   "source": [
    "# Which room is the largest?\n",
    "\n",
    "biggest_area = max(room_A, room_B, room_C)\n",
    "print(biggest_area)"
   ]
  },
  {
   "cell_type": "code",
   "execution_count": 14,
   "metadata": {},
   "outputs": [
    {
     "name": "stdout",
     "output_type": "stream",
     "text": [
      "[6, 11.3, 8.2]\n",
      "6\n",
      "6\n"
     ]
    }
   ],
   "source": [
    "# Let's make a list of rooms =\n",
    "\n",
    "list_of_rooms = [room_A, room_B, room_C]\n",
    "print(list_of_rooms)\n",
    "print(room_A)\n",
    "print(list_of_rooms[0])"
   ]
  },
  {
   "cell_type": "code",
   "execution_count": 15,
   "metadata": {},
   "outputs": [
    {
     "name": "stdout",
     "output_type": "stream",
     "text": [
      "11.3\n"
     ]
    }
   ],
   "source": [
    "print(max(list_of_rooms))"
   ]
  },
  {
   "cell_type": "markdown",
   "metadata": {},
   "source": [
    "Room X is the largest"
   ]
  },
  {
   "cell_type": "code",
   "execution_count": 17,
   "metadata": {},
   "outputs": [
    {
     "data": {
      "text/plain": [
       "1"
      ]
     },
     "execution_count": 17,
     "metadata": {},
     "output_type": "execute_result"
    }
   ],
   "source": [
    "biggest_room = max(list_of_rooms)\n",
    "list_of_rooms.index(biggest_room)\n"
   ]
  },
  {
   "cell_type": "code",
   "execution_count": null,
   "metadata": {},
   "outputs": [],
   "source": []
  }
 ],
 "metadata": {
  "kernelspec": {
   "display_name": "Python 3",
   "language": "python",
   "name": "python3"
  },
  "language_info": {
   "codemirror_mode": {
    "name": "ipython",
    "version": 3
   },
   "file_extension": ".py",
   "mimetype": "text/x-python",
   "name": "python",
   "nbconvert_exporter": "python",
   "pygments_lexer": "ipython3",
   "version": "3.12.1"
  }
 },
 "nbformat": 4,
 "nbformat_minor": 2
}
